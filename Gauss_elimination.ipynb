{
  "nbformat": 4,
  "nbformat_minor": 0,
  "metadata": {
    "colab": {
      "provenance": [],
      "include_colab_link": true
    },
    "kernelspec": {
      "name": "python3",
      "display_name": "Python 3"
    },
    "language_info": {
      "name": "python"
    }
  },
  "cells": [
    {
      "cell_type": "markdown",
      "metadata": {
        "id": "view-in-github",
        "colab_type": "text"
      },
      "source": [
        "<a href=\"https://colab.research.google.com/github/vedant3110/PHY_312-Numerical_Methods_IISERB-/blob/main/Gauss_elimination.ipynb\" target=\"_parent\"><img src=\"https://colab.research.google.com/assets/colab-badge.svg\" alt=\"Open In Colab\"/></a>"
      ]
    },
    {
      "cell_type": "code",
      "execution_count": 1,
      "metadata": {
        "id": "EL81BHYK7dgM",
        "outputId": "f7c0fbae-2b87-453b-9f44-5e40b3796c56",
        "colab": {
          "base_uri": "https://localhost:8080/"
        }
      },
      "outputs": [
        {
          "output_type": "stream",
          "name": "stdout",
          "text": [
            "Requirement already satisfied: matplotlib in /usr/local/lib/python3.11/dist-packages (3.10.0)\n",
            "Requirement already satisfied: numpy in /usr/local/lib/python3.11/dist-packages (1.26.4)\n",
            "Requirement already satisfied: scipy in /usr/local/lib/python3.11/dist-packages (1.13.1)\n",
            "Requirement already satisfied: contourpy>=1.0.1 in /usr/local/lib/python3.11/dist-packages (from matplotlib) (1.3.1)\n",
            "Requirement already satisfied: cycler>=0.10 in /usr/local/lib/python3.11/dist-packages (from matplotlib) (0.12.1)\n",
            "Requirement already satisfied: fonttools>=4.22.0 in /usr/local/lib/python3.11/dist-packages (from matplotlib) (4.56.0)\n",
            "Requirement already satisfied: kiwisolver>=1.3.1 in /usr/local/lib/python3.11/dist-packages (from matplotlib) (1.4.8)\n",
            "Requirement already satisfied: packaging>=20.0 in /usr/local/lib/python3.11/dist-packages (from matplotlib) (24.2)\n",
            "Requirement already satisfied: pillow>=8 in /usr/local/lib/python3.11/dist-packages (from matplotlib) (11.1.0)\n",
            "Requirement already satisfied: pyparsing>=2.3.1 in /usr/local/lib/python3.11/dist-packages (from matplotlib) (3.2.1)\n",
            "Requirement already satisfied: python-dateutil>=2.7 in /usr/local/lib/python3.11/dist-packages (from matplotlib) (2.8.2)\n",
            "Requirement already satisfied: six>=1.5 in /usr/local/lib/python3.11/dist-packages (from python-dateutil>=2.7->matplotlib) (1.17.0)\n"
          ]
        }
      ],
      "source": [
        "!pip install matplotlib numpy scipy"
      ]
    },
    {
      "cell_type": "code",
      "source": [
        "import numpy as np\n",
        "import scipy as sc\n",
        "import matplotlib.pyplot as plt\n",
        "import math as ma"
      ],
      "metadata": {
        "id": "kHF9i-P67pjp"
      },
      "execution_count": 2,
      "outputs": []
    },
    {
      "cell_type": "code",
      "source": [
        "a = np.array([[7,3,-1,2],[3,8,1,-4],[-1,1,4,-1],[2,-4,-1,6]], dtype=float)\n",
        "b = np.array([80.0, 30.0, 80.0, 20.0], dtype=float)"
      ],
      "metadata": {
        "id": "-wc9ZOHU70g5"
      },
      "execution_count": 30,
      "outputs": []
    },
    {
      "cell_type": "code",
      "source": [
        "n=4\n",
        "for i in range(0,n):\n",
        "  for j in range(i+1,n):\n",
        "    factor=a[j,i]/a[i,i]\n",
        "    for k in range(i+1,n):\n",
        "      a[j,k]=a[j,k]-factor*a[i,k]\n",
        "    b[j]=b[j]-factor*b[i]\n",
        "print(a,b)"
      ],
      "metadata": {
        "id": "uK-F1HLy76CQ",
        "outputId": "f76a746d-ee7e-4a7c-adc5-5e273d1cf85a",
        "colab": {
          "base_uri": "https://localhost:8080/"
        }
      },
      "execution_count": 31,
      "outputs": [
        {
          "output_type": "stream",
          "name": "stdout",
          "text": [
            "[[ 7.          3.         -1.          2.        ]\n",
            " [ 3.          6.71428571  1.42857143 -4.85714286]\n",
            " [-1.          1.42857143  3.55319149  0.31914894]\n",
            " [ 2.         -4.85714286  0.31914894  1.88622754]] [ 80.          -4.28571429  92.34042553 -14.25149701]\n"
          ]
        }
      ]
    },
    {
      "cell_type": "code",
      "source": [
        "x=np.zeros(n)\n",
        "x[n-1]=b[n-1]/a[n-1,n-1]\n",
        "for i in range(n-2,-1,-1):\n",
        "  temp=0\n",
        "  for j in range(i+1,n):\n",
        "    temp+=a[i,j]*x[j]\n",
        "  x[i]=(b[i]-temp)/a[i,i]\n",
        "print(x)"
      ],
      "metadata": {
        "id": "hjY58ctb8cnj",
        "outputId": "a7d1ecae-0b76-455b-de9d-75c8c7e9bac5",
        "colab": {
          "base_uri": "https://localhost:8080/"
        }
      },
      "execution_count": 32,
      "outputs": [
        {
          "output_type": "stream",
          "name": "stdout",
          "text": [
            "[ 22.44444444 -11.77777778  26.66666667  -7.55555556]\n"
          ]
        }
      ]
    }
  ]
}