{
  "nbformat": 4,
  "nbformat_minor": 0,
  "metadata": {
    "colab": {
      "provenance": [],
      "authorship_tag": "ABX9TyPQClyivgm+Cl5L/PKrt9Bh",
      "include_colab_link": true
    },
    "kernelspec": {
      "name": "python3",
      "display_name": "Python 3"
    },
    "language_info": {
      "name": "python"
    }
  },
  "cells": [
    {
      "cell_type": "markdown",
      "metadata": {
        "id": "view-in-github",
        "colab_type": "text"
      },
      "source": [
        "<a href=\"https://colab.research.google.com/github/vedant3110/PHY_312-Numerical_Methods_IISERB-/blob/main/assignment/Assignment_HA1.ipynb\" target=\"_parent\"><img src=\"https://colab.research.google.com/assets/colab-badge.svg\" alt=\"Open In Colab\"/></a>"
      ]
    },
    {
      "cell_type": "code",
      "source": [
        "!pip install matplotlib numpy scipy"
      ],
      "metadata": {
        "colab": {
          "base_uri": "https://localhost:8080/"
        },
        "id": "ynNPwG87_m09",
        "outputId": "1daa66bf-921d-42d9-f051-c20bafed9fde"
      },
      "execution_count": 2,
      "outputs": [
        {
          "output_type": "stream",
          "name": "stdout",
          "text": [
            "Requirement already satisfied: matplotlib in /usr/local/lib/python3.11/dist-packages (3.10.0)\n",
            "Requirement already satisfied: numpy in /usr/local/lib/python3.11/dist-packages (1.26.4)\n",
            "Requirement already satisfied: scipy in /usr/local/lib/python3.11/dist-packages (1.13.1)\n",
            "Requirement already satisfied: contourpy>=1.0.1 in /usr/local/lib/python3.11/dist-packages (from matplotlib) (1.3.1)\n",
            "Requirement already satisfied: cycler>=0.10 in /usr/local/lib/python3.11/dist-packages (from matplotlib) (0.12.1)\n",
            "Requirement already satisfied: fonttools>=4.22.0 in /usr/local/lib/python3.11/dist-packages (from matplotlib) (4.55.3)\n",
            "Requirement already satisfied: kiwisolver>=1.3.1 in /usr/local/lib/python3.11/dist-packages (from matplotlib) (1.4.8)\n",
            "Requirement already satisfied: packaging>=20.0 in /usr/local/lib/python3.11/dist-packages (from matplotlib) (24.2)\n",
            "Requirement already satisfied: pillow>=8 in /usr/local/lib/python3.11/dist-packages (from matplotlib) (11.1.0)\n",
            "Requirement already satisfied: pyparsing>=2.3.1 in /usr/local/lib/python3.11/dist-packages (from matplotlib) (3.2.1)\n",
            "Requirement already satisfied: python-dateutil>=2.7 in /usr/local/lib/python3.11/dist-packages (from matplotlib) (2.8.2)\n",
            "Requirement already satisfied: six>=1.5 in /usr/local/lib/python3.11/dist-packages (from python-dateutil>=2.7->matplotlib) (1.17.0)\n"
          ]
        }
      ]
    },
    {
      "cell_type": "code",
      "execution_count": 3,
      "metadata": {
        "id": "xmwsMqeV9tx8"
      },
      "outputs": [],
      "source": [
        "import matplotlib.pyplot as plt\n",
        "import numpy as np\n",
        "import scipy as sp\n",
        "import math"
      ]
    },
    {
      "cell_type": "markdown",
      "source": [
        "###Question1:\n",
        "Add two numbers given here as a = 0.00001 and b = 10000 by writing a python\n",
        "code. Compare the outcome if they are defined as single precision or as double precision.\n",
        "Here single precision means each numbers take 64 bits however in double precision it\n",
        "acquires 32 bits."
      ],
      "metadata": {
        "id": "4kFNzQBd_x8Z"
      }
    },
    {
      "cell_type": "code",
      "source": [
        "#64-bit\n",
        "a=0.00001\n",
        "b=10000\n",
        "print(\"64-Bit presesion\",a+b)\n",
        "#32-bit\n",
        "a=np.float32(0.00001)\n",
        "b=np.float32(10000)\n",
        "print(\"32-Bit presesion\",a+b)"
      ],
      "metadata": {
        "colab": {
          "base_uri": "https://localhost:8080/"
        },
        "id": "GjXBlk7P_xHB",
        "outputId": "2b5fff00-7910-4992-d57c-e39617d2cc35"
      },
      "execution_count": 8,
      "outputs": [
        {
          "output_type": "stream",
          "name": "stdout",
          "text": [
            "64-Bit presesion 10000.00001\n",
            "32-Bit presesion 10000.0\n"
          ]
        }
      ]
    },
    {
      "cell_type": "markdown",
      "source": [
        "###Question2:\n",
        "The Stefan-Boltzmann law can be employed to estimate the rate of radiation of energy H from a surface, as in $H = σAeT^{4}$, where H is in watts, A is the surface area $m^2$, e is the emissivity that characterises the emitting properties of the surface (dimensionless), σ $\\equiv$ auniversal constant called the Stefan-Boltzmann constant $=5.67×10−8Wm^{−2}K^{−4}$, and T$\\equiv$ absolute temperature (K). Determine the error of H for a steel plate with A = 0.14$m^2$,e = 0.9, and T = 650 ± 20. Compare your results with the exact error. Repeat the computation with T = 650 ± 40.\n",
        "\n",
        "### Ans:\n",
        "#### $$\n",
        "  H = \\sigma A e T^{4}\n",
        "$$\n",
        "#### $$\n",
        "  H = 5.67 \\times 10^{-8} \\times 0.14 \\times 0.9 \\times T^{4}\n",
        "$$\n",
        "#### $$\n",
        "  H = 0.714 \\times 10^{-8} \\times T^{4}\n",
        "$$\n",
        "\n",
        "### Error:\n",
        "#### $$\n",
        "  \\frac{\\Delta H}{H} = \\frac{\\Delta T}{T}\n",
        "$$\n",
        "#### $$\n",
        "  \\Delta H = \\frac{\\Delta T}{T} \\cdot H\n",
        "$$\n",
        "\n",
        "\n",
        "\n"
      ],
      "metadata": {
        "id": "vh0djqjFA664"
      }
    },
    {
      "cell_type": "code",
      "source": [
        "def H(t):\n",
        "  return 0.714e-8*(t**4)"
      ],
      "metadata": {
        "id": "bsQYuxOyA6ic"
      },
      "execution_count": 11,
      "outputs": []
    },
    {
      "cell_type": "code",
      "source": [
        "def delta_H(t,t_delta):\n",
        "  return (t_delta/t)*H(t)\n"
      ],
      "metadata": {
        "id": "HsTKIcoSFtcR"
      },
      "execution_count": 10,
      "outputs": []
    },
    {
      "cell_type": "code",
      "source": [
        "t=650\n",
        "t_delta=np.array([20,40])\n",
        "print(\"with 20 error\",delta_H(t,t_delta)[0],\"\\nwith 40 error\",delta_H(t,t_delta)[1])"
      ],
      "metadata": {
        "colab": {
          "base_uri": "https://localhost:8080/"
        },
        "id": "IAYNLdDhFsc_",
        "outputId": "05519b2c-472e-4281-cde0-012c78761c98"
      },
      "execution_count": 17,
      "outputs": [
        {
          "output_type": "stream",
          "name": "stdout",
          "text": [
            "with 20 error 39.21645 \n",
            "with 40 error 78.4329\n"
          ]
        }
      ]
    },
    {
      "cell_type": "code",
      "source": [],
      "metadata": {
        "id": "RtTOX7o4G2mO"
      },
      "execution_count": null,
      "outputs": []
    }
  ]
}