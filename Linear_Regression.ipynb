{
  "nbformat": 4,
  "nbformat_minor": 0,
  "metadata": {
    "colab": {
      "provenance": [],
      "authorship_tag": "ABX9TyNMcaGpu5HFWpJ7YjA35B+5",
      "include_colab_link": true
    },
    "kernelspec": {
      "name": "python3",
      "display_name": "Python 3"
    },
    "language_info": {
      "name": "python"
    }
  },
  "cells": [
    {
      "cell_type": "markdown",
      "metadata": {
        "id": "view-in-github",
        "colab_type": "text"
      },
      "source": [
        "<a href=\"https://colab.research.google.com/github/vedant3110/PHY_312-Numerical_Methods_IISERB-/blob/main/Linear_Regression.ipynb\" target=\"_parent\"><img src=\"https://colab.research.google.com/assets/colab-badge.svg\" alt=\"Open In Colab\"/></a>"
      ]
    },
    {
      "cell_type": "code",
      "execution_count": 2,
      "metadata": {
        "id": "sa7gLWa9If6P",
        "colab": {
          "base_uri": "https://localhost:8080/"
        },
        "outputId": "0c0e8bc1-e534-4a64-d2bf-24de088ab323"
      },
      "outputs": [
        {
          "output_type": "stream",
          "name": "stdout",
          "text": [
            "Requirement already satisfied: matplotlib in /usr/local/lib/python3.11/dist-packages (3.10.0)\n",
            "Requirement already satisfied: numpy in /usr/local/lib/python3.11/dist-packages (1.26.4)\n",
            "Requirement already satisfied: scipy in /usr/local/lib/python3.11/dist-packages (1.13.1)\n",
            "Requirement already satisfied: contourpy>=1.0.1 in /usr/local/lib/python3.11/dist-packages (from matplotlib) (1.3.1)\n",
            "Requirement already satisfied: cycler>=0.10 in /usr/local/lib/python3.11/dist-packages (from matplotlib) (0.12.1)\n",
            "Requirement already satisfied: fonttools>=4.22.0 in /usr/local/lib/python3.11/dist-packages (from matplotlib) (4.56.0)\n",
            "Requirement already satisfied: kiwisolver>=1.3.1 in /usr/local/lib/python3.11/dist-packages (from matplotlib) (1.4.8)\n",
            "Requirement already satisfied: packaging>=20.0 in /usr/local/lib/python3.11/dist-packages (from matplotlib) (24.2)\n",
            "Requirement already satisfied: pillow>=8 in /usr/local/lib/python3.11/dist-packages (from matplotlib) (11.1.0)\n",
            "Requirement already satisfied: pyparsing>=2.3.1 in /usr/local/lib/python3.11/dist-packages (from matplotlib) (3.2.1)\n",
            "Requirement already satisfied: python-dateutil>=2.7 in /usr/local/lib/python3.11/dist-packages (from matplotlib) (2.8.2)\n",
            "Requirement already satisfied: six>=1.5 in /usr/local/lib/python3.11/dist-packages (from python-dateutil>=2.7->matplotlib) (1.17.0)\n"
          ]
        }
      ],
      "source": [
        "!pip install matplotlib numpy scipy"
      ]
    },
    {
      "cell_type": "markdown",
      "source": [
        "#LINEAR REGRESSION"
      ],
      "metadata": {
        "id": "ZfbQEeXdI8gJ"
      }
    },
    {
      "cell_type": "code",
      "source": [
        "import numpy as np\n",
        "import matplotlib.pyplot as plt\n",
        "import scipy as sc\n",
        "import math as ma"
      ],
      "metadata": {
        "id": "xZM6DbVNJE_E"
      },
      "execution_count": 3,
      "outputs": []
    },
    {
      "cell_type": "markdown",
      "source": [
        "###General line formula:\n",
        "$$\n",
        "  y=a_0+a_1x+e\n",
        "$$\n",
        "\n",
        "\n",
        "So,What we trying to do is to minimize the function,\n",
        "\n",
        "\n",
        "$$\n",
        "  S_r=\\sum|e_i|^{2}=\\sum(y_i-a_0-a_1x_i)^2\n",
        "$$\n",
        "\n",
        "\n",
        "meaning solving this equation simultaneously,\n",
        "$$\n",
        "  \\frac{\\partial S_r}{\\partial a_0}=0  ,  \\frac{\\partial S_r}{\\partial a_1}=0\n",
        "$$\n",
        "<hr>\n",
        "The formulas for $a_1$ and $a_0$ are:\n",
        "$$\n",
        "a_1 = \\frac{n\\sum{x_i y_i} - \\sum{x_i} \\sum{y_i}}{n\\sum{x_i^2} - (\\sum{x_i})^2}\n",
        "$$\n",
        "\n",
        "$$\n",
        "a_0 = \\frac{\\sum{y_i} - a_1\\sum{x_i}}{n}\n",
        "$$\n",
        "<hr>\n",
        "The total standard deviation of $ y $ values is:\n",
        "$$\n",
        "s_t = \\sum(y_i - \\bar{y})^2\n",
        "$$\n",
        "\n",
        "The regression standard deviation, based on the predicted values, is:\n",
        "\n",
        "$$\n",
        "s_r = \\sum{(a_1 x_i + a_0 - \\bar{y})}^2\n",
        "$$\n",
        "\n",
        "and,<br>\n",
        "Standard error of the estimate\n",
        "$$\n",
        "  S_{y/x}=\\sqrt{\\frac{s_r}{n-2}}\n",
        "$$\n",
        "coefficient of determination,\n",
        "$$\n",
        "  r^2=\\frac{s_t-s_r}{s_t}\n",
        "$$\n",
        "$r$ is called as correlation coefficient"
      ],
      "metadata": {
        "id": "bZjVV1VkKzPR"
      }
    },
    {
      "cell_type": "code",
      "source": [
        "x = np.array([0.2, 0.5, 0.8, 1.2, 1.7, 2.0, 2.3])\n",
        "y = np.array([500,700,1000,1200,2200,2650,3750])\n",
        "n=7\n",
        "g1=(n*(np.sum(x*y))-((np.sum(x))*(np.sum(y))))/(n*np.sum(x*x)-np.sum(x)**2)\n",
        "g0=np.mean(y)-(g1*np.mean(x))\n",
        "sr=np.sum(((g0+(g1*x))-y)**2)\n",
        "st=np.sum((y-np.mean(y))**2)\n",
        "syx=ma.sqrt(sr/(n-2))\n",
        "sd=ma.sqrt(st/(n-1))\n",
        "r=ma.sqrt((st-sr)/st)\n",
        "print(f\"Slope (g1): {g1}\")\n",
        "print(f\"Intercept (g0): {g0}\")\n",
        "print(f\"Residual Sum of Squares (SR): {sr}\")\n",
        "print(f\"Total Sum of Squares (ST): {st}\")\n",
        "print(f\"Standard Error (Syx): {syx}\")\n",
        "print(f\"Standard Deviation (Sd): {sd}\")\n",
        "print(f\"Correlation Coefficient (r): {r}\")\n",
        "x_pre=np.linspace(0,2.5)\n",
        "y_pre=g0+(g1*x_pre)\n",
        "plt.plot(x_pre,y_pre,\"r-\")\n",
        "plt.scatter(x,y)\n",
        "plt.grid()"
      ],
      "metadata": {
        "id": "5SwrEI19U6hE",
        "outputId": "47a952e8-f9f1-4d15-8a16-5dcde876f781",
        "colab": {
          "base_uri": "https://localhost:8080/",
          "height": 551
        }
      },
      "execution_count": 28,
      "outputs": [
        {
          "output_type": "stream",
          "name": "stdout",
          "text": [
            "Slope (g1): 1455.848623853211\n",
            "Intercept (g0): -95.12614678899058\n",
            "Residual Sum of Squares (SR): 612715.02293578\n",
            "Total Sum of Squares (ST): 8533571.42857143\n",
            "Standard Error (Syx): 350.06142973363404\n",
            "Standard Deviation (Sd): 1192.586225294383\n",
            "Correlation Coefficient (r): 0.9634310881495103\n"
          ]
        },
        {
          "output_type": "display_data",
          "data": {
            "text/plain": [
              "<Figure size 640x480 with 1 Axes>"
            ],
            "image/png": "[encoded data removed]"
          },
          "metadata": {}
        }
      ]
    }
  ]
}