{
  "nbformat": 4,
  "nbformat_minor": 0,
  "metadata": {
    "colab": {
      "provenance": [],
      "authorship_tag": "ABX9TyNqKr/Na428USOAAsKWPwbl",
      "include_colab_link": true
    },
    "kernelspec": {
      "name": "python3",
      "display_name": "Python 3"
    },
    "language_info": {
      "name": "python"
    }
  },
  "cells": [
    {
      "cell_type": "markdown",
      "metadata": {
        "id": "view-in-github",
        "colab_type": "text"
      },
      "source": [
        "<a href=\"https://colab.research.google.com/github/vedant3110/PHY_312-Numerical_Methods_IISERB-/blob/main/Linear_Regression.ipynb\" target=\"_parent\"><img src=\"https://colab.research.google.com/assets/colab-badge.svg\" alt=\"Open In Colab\"/></a>"
      ]
    },
    {
      "cell_type": "code",
      "execution_count": 1,
      "metadata": {
        "id": "sa7gLWa9If6P",
        "colab": {
          "base_uri": "https://localhost:8080/"
        },
        "outputId": "73a05d9f-12b7-46b8-e3b4-e0ba8be66bb0"
      },
      "outputs": [
        {
          "output_type": "stream",
          "name": "stdout",
          "text": [
            "Requirement already satisfied: matplotlib in /usr/local/lib/python3.11/dist-packages (3.10.0)\n",
            "Requirement already satisfied: numpy in /usr/local/lib/python3.11/dist-packages (1.26.4)\n",
            "Requirement already satisfied: scipy in /usr/local/lib/python3.11/dist-packages (1.13.1)\n",
            "Requirement already satisfied: contourpy>=1.0.1 in /usr/local/lib/python3.11/dist-packages (from matplotlib) (1.3.1)\n",
            "Requirement already satisfied: cycler>=0.10 in /usr/local/lib/python3.11/dist-packages (from matplotlib) (0.12.1)\n",
            "Requirement already satisfied: fonttools>=4.22.0 in /usr/local/lib/python3.11/dist-packages (from matplotlib) (4.56.0)\n",
            "Requirement already satisfied: kiwisolver>=1.3.1 in /usr/local/lib/python3.11/dist-packages (from matplotlib) (1.4.8)\n",
            "Requirement already satisfied: packaging>=20.0 in /usr/local/lib/python3.11/dist-packages (from matplotlib) (24.2)\n",
            "Requirement already satisfied: pillow>=8 in /usr/local/lib/python3.11/dist-packages (from matplotlib) (11.1.0)\n",
            "Requirement already satisfied: pyparsing>=2.3.1 in /usr/local/lib/python3.11/dist-packages (from matplotlib) (3.2.1)\n",
            "Requirement already satisfied: python-dateutil>=2.7 in /usr/local/lib/python3.11/dist-packages (from matplotlib) (2.8.2)\n",
            "Requirement already satisfied: six>=1.5 in /usr/local/lib/python3.11/dist-packages (from python-dateutil>=2.7->matplotlib) (1.17.0)\n"
          ]
        }
      ],
      "source": [
        "!pip install matplotlib numpy scipy"
      ]
    },
    {
      "cell_type": "markdown",
      "source": [
        "#LINEAR REGRESSION"
      ],
      "metadata": {
        "id": "ZfbQEeXdI8gJ"
      }
    },
    {
      "cell_type": "code",
      "source": [
        "import numpy as np\n",
        "import matplotlib.pyplot as plt\n",
        "import scipy as sc\n",
        "import math as ma"
      ],
      "metadata": {
        "id": "xZM6DbVNJE_E"
      },
      "execution_count": 2,
      "outputs": []
    },
    {
      "cell_type": "markdown",
      "source": [
        "###General line formula:\n",
        "$$\n",
        "  y=a_0+a_1x+e\n",
        "$$\n",
        "\n",
        "\n",
        "So,What we trying to do is to minimize the function,\n",
        "\n",
        "\n",
        "$$\n",
        "  S_r=\\sum|e_i|^{2}=\\sum(y_i-a_0-a_1x_i)^2\n",
        "$$\n",
        "\n",
        "\n",
        "meaning solving this equation simultaneously,\n",
        "$$\n",
        "  \\frac{\\partial S_r}{\\partial a_0}=0  ,  \\frac{\\partial S_r}{\\partial a_1}=0\n",
        "$$\n",
        "<hr>\n",
        "The formulas for $a_1$ and $a_0$ are:\n",
        "$$\n",
        "a_1 = \\frac{n\\sum{x_i y_i} - \\sum{x_i} \\sum{y_i}}{n\\sum{x_i^2} - (\\sum{x_i})^2}\n",
        "$$\n",
        "\n",
        "$$\n",
        "a_0 = \\frac{\\sum{y_i} - a_1\\sum{x_i}}{n}\n",
        "$$\n",
        "<hr>\n",
        "The total standard deviation of $ y $ values is:\n",
        "$$\n",
        "s_t = \\sqrt{\\frac{\\sum(y_i - \\bar{y})^2}{n}}\n",
        "$$\n",
        "\n",
        "The regression standard deviation, based on the predicted values, is:\n",
        "\n",
        "$$\n",
        "s_r = \\sqrt{\\frac{\\sum{(a_1 x_i + a_0 - \\bar{y})^2}}{n}}\n",
        "$$\n",
        "\n",
        "and,<br>\n",
        "Standard error of the estimate\n",
        "$$\n",
        "  S_{y/x}=\\sqrt{\\frac{s_r}{n-2}}\n",
        "$$\n",
        "coefficient of determination,\n",
        "$$\n",
        "  r^2=\\frac{s_t-s_r}{s_t}\n",
        "$$\n",
        "$r$ is called as correlation coefficient"
      ],
      "metadata": {
        "id": "bZjVV1VkKzPR"
      }
    },
    {
      "cell_type": "code",
      "source": [
        "x = np.array([0.2, 0.5, 0.8, 1.2, 1.7, 2.0, 2.3])\n",
        "y = np.array([500,700,1000,1200,2200,2650,3750])\n",
        "n=7\n",
        "\n",
        "a_1=(n*np.sum(x*y)-((np.sum(x))*(np.sum(y))))/((n*np.sum(np.power(x,2)))-(np.sum(x))**2)\n",
        "\n",
        "a_0=(np.sum(y)-(a_1*np.sum(x)))/(n)\n",
        "\n",
        "s_t=ma.sqrt((np.sum(np.power((y-np.sum(y)),2)))/(n))\n",
        "s_r=ma.sqrt((np.sum(np.power((a_1*x)+a_0-np.sum(y),2)))/(n))\n",
        "Syx=ma.sqrt(s_r/(n-2))\n",
        "r=ma.sqrt((s_t-s_r)/s_t)\n",
        "print('st =',s_t)\n",
        "print('sr =',s_r)\n",
        "print('Standard error =', Syx)\n",
        "print('Correlation coefficient =', r)\n",
        "x_pre=np.linspace(0,2.5)\n",
        "y_pre=a_0+(a_1*x_pre)\n",
        "plt.plot(x_pre,y_pre,\"r-\")\n",
        "plt.scatter(x,y)\n",
        "plt.grid()"
      ],
      "metadata": {
        "colab": {
          "base_uri": "https://localhost:8080/",
          "height": 499
        },
        "id": "Seytkm3iRfu8",
        "outputId": "75666712-72a5-441a-b06a-5ed5787bf21f"
      },
      "execution_count": 13,
      "outputs": [
        {
          "output_type": "stream",
          "name": "stdout",
          "text": [
            "st = 10344.805459746452\n",
            "sr = 10340.573933899306\n",
            "Standard error = 45.47653006529699\n",
            "Correlation coefficient = 0.020224944337807912\n"
          ]
        },
        {
          "output_type": "display_data",
          "data": {
            "text/plain": [
              "<Figure size 640x480 with 1 Axes>"
            ],
            "image/png": "[encoded data removed]"
          },
          "metadata": {}
        }
      ]
    },
    {
      "cell_type": "code",
      "source": [
        "x=np.array([1,2,3,3])\n",
        "x=x-2\n",
        "print(x)"
      ],
      "metadata": {
        "id": "5SwrEI19U6hE",
        "outputId": "33bafbf4-aea8-4526-bd7a-ba54f7e073da",
        "colab": {
          "base_uri": "https://localhost:8080/"
        }
      },
      "execution_count": 10,
      "outputs": [
        {
          "output_type": "stream",
          "name": "stdout",
          "text": [
            "[-1  0  1  1]\n"
          ]
        }
      ]
    }
  ]
}